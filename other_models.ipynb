{
 "cells": [
  {
   "cell_type": "code",
   "execution_count": 1,
   "id": "7b846f3a",
   "metadata": {},
   "outputs": [
    {
     "name": "stdout",
     "output_type": "stream",
     "text": [
      "WARNING:tensorflow:From C:\\Users\\cj_dj\\anaconda3\\envs\\school\\Lib\\site-packages\\keras\\src\\losses.py:2976: The name tf.losses.sparse_softmax_cross_entropy is deprecated. Please use tf.compat.v1.losses.sparse_softmax_cross_entropy instead.\n",
      "\n"
     ]
    }
   ],
   "source": [
    "import pandas as pd\n",
    "import numpy as np\n",
    "from keras import backend as K\n",
    "from sklearn.preprocessing import MinMaxScaler,PolynomialFeatures\n",
    "from keras.preprocessing.sequence import TimeseriesGenerator\n",
    "import tensorflow as tf\n",
    "from sklearn.linear_model import LinearRegression\n",
    "import xgboost as xg\n",
    "from sklearn.model_selection import GridSearchCV\n",
    "import time\n",
    "from sklearn.svm import SVR\n",
    "from statsmodels.tsa.arima.model import ARIMA\n",
    "from statsmodels.graphics.tsaplots import plot_acf, plot_pacf\n",
    "import matplotlib.pyplot as plt"
   ]
  },
  {
   "cell_type": "code",
   "execution_count": 2,
   "id": "c230f8e3",
   "metadata": {},
   "outputs": [],
   "source": [
    "region = 478\n",
    "train_df = pd.read_csv(f'myfiles/csv/{region}.csv', index_col=0)\n",
    "test_df = pd.read_csv(f'myfiles/csv2/{region}.csv', index_col=0)\n",
    "\n",
    "results = {}"
   ]
  },
  {
   "cell_type": "code",
   "execution_count": 3,
   "id": "c429966c",
   "metadata": {},
   "outputs": [],
   "source": [
    "def rmse(y_true,y_pred):\n",
    "    return np.sqrt(np.mean(np.square(y_pred-y_true)))\n",
    "\n",
    "def mape(y_true, y_pred):\n",
    "    mask = y_true != 0  # Create a mask for non-zero true values\n",
    "    return np.mean(np.abs((y_true[mask] - y_pred[mask]) / y_true[mask]))\n",
    "\n",
    "def smape(y_true, y_pred):\n",
    "    numerator = np.abs(y_pred - y_true)\n",
    "    denominator = (np.abs(y_true) + np.abs(y_pred)) / 2\n",
    "    return np.mean(np.divide(numerator, denominator))\n",
    "\n",
    "def getTT(region):\n",
    "    return round((((region-100)//50) * -5.2222 ) + 147.11),round((((region%50)-2) * 5.2083)+20.458 )\n",
    "\n",
    "def mean_absolute_percentage_error_revise(y_true, y_pred):\n",
    "    # RMSE\n",
    "    rmse = K.sqrt(K.mean(K.square(y_pred - y_true)))\n",
    "\n",
    "    # SMAPE\n",
    "    smape_numerator = K.abs(y_pred - y_true)\n",
    "    smape_denominator = (K.abs(y_pred) + K.abs(y_true)) / 2\n",
    "    smape = K.mean(smape_numerator / smape_denominator)\n",
    "\n",
    "    # Combine RMSE and SMAPE with a weight factor (you can adjust this factor)\n",
    "    alpha = 0.5\n",
    "    combined_loss = alpha * rmse + (1 - alpha) * smape\n",
    "\n",
    "    return combined_loss\n",
    "def custom_metric(y_true, y_pred):\n",
    "    return mean_absolute_percentage_error_revise(y_true, y_pred)"
   ]
  },
  {
   "cell_type": "code",
   "execution_count": 4,
   "id": "a251915e",
   "metadata": {},
   "outputs": [],
   "source": [
    "train = train_df.drop(['freetaxi'], axis=1)\n",
    "test = test_df.drop(['freetaxi'], axis=1)"
   ]
  },
  {
   "cell_type": "code",
   "execution_count": 5,
   "id": "a0dbaa25",
   "metadata": {},
   "outputs": [],
   "source": [
    "# polynomial + scale CSV\n",
    "\n",
    "# create polynomial features\n",
    "poly = PolynomialFeatures(2,include_bias=False)\n",
    "train_poly = pd.DataFrame(poly.fit_transform(train),columns=poly.get_feature_names_out(train.columns))\n",
    "test_poly = pd.DataFrame(poly.fit_transform(test),columns=poly.get_feature_names_out(test.columns))\n",
    "\n",
    "# initialise scalers\n",
    "minmaxscaler = MinMaxScaler(feature_range=(0.1,1))\n",
    "minmaxscaler.fit(train_poly)\n",
    "minmaxscalerY = MinMaxScaler(feature_range=(0.1,1))\n",
    "minmaxscalerY.fit((train[[str(region)]]))\n",
    "\n",
    "# scale train and test using scalers\n",
    "scaled_train = pd.DataFrame(minmaxscaler.transform(train_poly),columns=train_poly.columns)\n",
    "scaled_test = pd.DataFrame(minmaxscaler.transform(test_poly),columns=test_poly.columns)"
   ]
  },
  {
   "cell_type": "code",
   "execution_count": 6,
   "id": "36899d27",
   "metadata": {},
   "outputs": [],
   "source": [
    "# Create time series for CSV\n",
    "## For testing\n",
    "data = scaled_test.values\n",
    "scaled_data = data\n",
    "\n",
    "X2, y2 = [], []\n",
    "sequence_length = 16  # X = 16 previous time steps\n",
    "\n",
    "for i in range(len(scaled_data) - sequence_length):\n",
    "    X2.append(scaled_data[i:i+sequence_length, :])  # Use all columns\n",
    "    y2.append(scaled_data[i+sequence_length, 0])  # Assuming prediction is based on the first column\n",
    "\n",
    "X2, y2 = np.array(X2), np.array(y2)\n",
    "\n",
    "## For training\n",
    "data = scaled_train.values\n",
    "scaled_data = data\n",
    "\n",
    "X, y = [], []\n",
    "sequence_length = 16  # X = 16 previous time steps\n",
    "\n",
    "for i in range(len(scaled_data) - sequence_length):\n",
    "    X.append(scaled_data[i:i+sequence_length, :])  # Use all columns\n",
    "    y.append(scaled_data[i+sequence_length, 0])  # Assuming prediction is based on the first column\n",
    "\n",
    "X, y = np.array(X), np.array(y)"
   ]
  },
  {
   "cell_type": "code",
   "execution_count": 7,
   "id": "54e9eedc",
   "metadata": {},
   "outputs": [],
   "source": [
    "train_size = int(len(X) * 0.90)  # 90% training, 10% val\n",
    "X_train, X_val = X[:train_size], X[train_size:]\n",
    "y_train, y_val = y[:train_size], y[train_size:]"
   ]
  },
  {
   "cell_type": "code",
   "execution_count": 8,
   "id": "22d51cf0",
   "metadata": {},
   "outputs": [
    {
     "data": {
      "text/plain": [
       "(2664, 16, 324)"
      ]
     },
     "execution_count": 8,
     "metadata": {},
     "output_type": "execute_result"
    }
   ],
   "source": [
    "X_train.shape"
   ]
  },
  {
   "cell_type": "markdown",
   "id": "606abe48",
   "metadata": {},
   "source": [
    "### MLP"
   ]
  },
  {
   "cell_type": "code",
   "execution_count": 9,
   "id": "f30e525f",
   "metadata": {},
   "outputs": [
    {
     "name": "stdout",
     "output_type": "stream",
     "text": [
      "WARNING:tensorflow:From C:\\Users\\cj_dj\\anaconda3\\envs\\school\\Lib\\site-packages\\keras\\src\\backend.py:1398: The name tf.executing_eagerly_outside_functions is deprecated. Please use tf.compat.v1.executing_eagerly_outside_functions instead.\n",
      "\n",
      "WARNING:tensorflow:From C:\\Users\\cj_dj\\anaconda3\\envs\\school\\Lib\\site-packages\\keras\\src\\optimizers\\__init__.py:309: The name tf.train.Optimizer is deprecated. Please use tf.compat.v1.train.Optimizer instead.\n",
      "\n",
      "Epoch 1/5\n",
      "WARNING:tensorflow:From C:\\Users\\cj_dj\\anaconda3\\envs\\school\\Lib\\site-packages\\keras\\src\\utils\\tf_utils.py:492: The name tf.ragged.RaggedTensorValue is deprecated. Please use tf.compat.v1.ragged.RaggedTensorValue instead.\n",
      "\n",
      "WARNING:tensorflow:From C:\\Users\\cj_dj\\anaconda3\\envs\\school\\Lib\\site-packages\\keras\\src\\engine\\base_layer_utils.py:384: The name tf.executing_eagerly_outside_functions is deprecated. Please use tf.compat.v1.executing_eagerly_outside_functions instead.\n",
      "\n",
      "84/84 [==============================] - 1s 1ms/step - loss: 0.1882 - custom_metric: 0.1871\n",
      "Epoch 2/5\n",
      "84/84 [==============================] - 0s 1ms/step - loss: 0.1337 - custom_metric: 0.1337\n",
      "Epoch 3/5\n",
      "84/84 [==============================] - 0s 1ms/step - loss: 0.1284 - custom_metric: 0.1285\n",
      "Epoch 4/5\n",
      "84/84 [==============================] - 0s 1ms/step - loss: 0.1290 - custom_metric: 0.1292\n",
      "Epoch 5/5\n",
      "84/84 [==============================] - 0s 1ms/step - loss: 0.1179 - custom_metric: 0.1173\n"
     ]
    }
   ],
   "source": [
    "X = X_train\n",
    "Y = y_train\n",
    "model = tf.keras.Sequential([\n",
    "    tf.keras.layers.Input(shape=(16, 324), name='input_layer'),\n",
    "    tf.keras.layers.Flatten(),\n",
    "    tf.keras.layers.Dense(units=128, activation='relu'),\n",
    "    tf.keras.layers.Dense(units=64, activation='relu'),\n",
    "    tf.keras.layers.Dense(units=1, activation='sigmoid', name='output_layer')\n",
    "])\n",
    "model.compile(optimizer='adam', loss=mean_absolute_percentage_error_revise, metrics=[custom_metric])\n",
    "\n",
    "history = model.fit(X, Y, epochs=5, verbose=1)"
   ]
  },
  {
   "cell_type": "code",
   "execution_count": 10,
   "id": "f64c9589",
   "metadata": {},
   "outputs": [
    {
     "name": "stdout",
     "output_type": "stream",
     "text": [
      "93/93 [==============================] - 0s 554us/step\n",
      "0.07636758848280956\n",
      "0.2238681245992073\n",
      "0.24321077042676556\n"
     ]
    }
   ],
   "source": [
    "predictions = model.predict(X2)\n",
    "print(rmse(y2,predictions))\n",
    "print(mape(y2,predictions))\n",
    "print(smape(y2,predictions))"
   ]
  },
  {
   "cell_type": "markdown",
   "id": "97670ad6",
   "metadata": {},
   "source": [
    "### XG Boost"
   ]
  },
  {
   "cell_type": "code",
   "execution_count": 11,
   "id": "f45409ea",
   "metadata": {},
   "outputs": [],
   "source": [
    "X_flattened = X_train.reshape((2664, -1))"
   ]
  },
  {
   "cell_type": "code",
   "execution_count": 12,
   "id": "500e235c",
   "metadata": {
    "scrolled": true
   },
   "outputs": [
    {
     "data": {
      "text/html": [
       "<style>#sk-container-id-1 {color: black;}#sk-container-id-1 pre{padding: 0;}#sk-container-id-1 div.sk-toggleable {background-color: white;}#sk-container-id-1 label.sk-toggleable__label {cursor: pointer;display: block;width: 100%;margin-bottom: 0;padding: 0.3em;box-sizing: border-box;text-align: center;}#sk-container-id-1 label.sk-toggleable__label-arrow:before {content: \"▸\";float: left;margin-right: 0.25em;color: #696969;}#sk-container-id-1 label.sk-toggleable__label-arrow:hover:before {color: black;}#sk-container-id-1 div.sk-estimator:hover label.sk-toggleable__label-arrow:before {color: black;}#sk-container-id-1 div.sk-toggleable__content {max-height: 0;max-width: 0;overflow: hidden;text-align: left;background-color: #f0f8ff;}#sk-container-id-1 div.sk-toggleable__content pre {margin: 0.2em;color: black;border-radius: 0.25em;background-color: #f0f8ff;}#sk-container-id-1 input.sk-toggleable__control:checked~div.sk-toggleable__content {max-height: 200px;max-width: 100%;overflow: auto;}#sk-container-id-1 input.sk-toggleable__control:checked~label.sk-toggleable__label-arrow:before {content: \"▾\";}#sk-container-id-1 div.sk-estimator input.sk-toggleable__control:checked~label.sk-toggleable__label {background-color: #d4ebff;}#sk-container-id-1 div.sk-label input.sk-toggleable__control:checked~label.sk-toggleable__label {background-color: #d4ebff;}#sk-container-id-1 input.sk-hidden--visually {border: 0;clip: rect(1px 1px 1px 1px);clip: rect(1px, 1px, 1px, 1px);height: 1px;margin: -1px;overflow: hidden;padding: 0;position: absolute;width: 1px;}#sk-container-id-1 div.sk-estimator {font-family: monospace;background-color: #f0f8ff;border: 1px dotted black;border-radius: 0.25em;box-sizing: border-box;margin-bottom: 0.5em;}#sk-container-id-1 div.sk-estimator:hover {background-color: #d4ebff;}#sk-container-id-1 div.sk-parallel-item::after {content: \"\";width: 100%;border-bottom: 1px solid gray;flex-grow: 1;}#sk-container-id-1 div.sk-label:hover label.sk-toggleable__label {background-color: #d4ebff;}#sk-container-id-1 div.sk-serial::before {content: \"\";position: absolute;border-left: 1px solid gray;box-sizing: border-box;top: 0;bottom: 0;left: 50%;z-index: 0;}#sk-container-id-1 div.sk-serial {display: flex;flex-direction: column;align-items: center;background-color: white;padding-right: 0.2em;padding-left: 0.2em;position: relative;}#sk-container-id-1 div.sk-item {position: relative;z-index: 1;}#sk-container-id-1 div.sk-parallel {display: flex;align-items: stretch;justify-content: center;background-color: white;position: relative;}#sk-container-id-1 div.sk-item::before, #sk-container-id-1 div.sk-parallel-item::before {content: \"\";position: absolute;border-left: 1px solid gray;box-sizing: border-box;top: 0;bottom: 0;left: 50%;z-index: -1;}#sk-container-id-1 div.sk-parallel-item {display: flex;flex-direction: column;z-index: 1;position: relative;background-color: white;}#sk-container-id-1 div.sk-parallel-item:first-child::after {align-self: flex-end;width: 50%;}#sk-container-id-1 div.sk-parallel-item:last-child::after {align-self: flex-start;width: 50%;}#sk-container-id-1 div.sk-parallel-item:only-child::after {width: 0;}#sk-container-id-1 div.sk-dashed-wrapped {border: 1px dashed gray;margin: 0 0.4em 0.5em 0.4em;box-sizing: border-box;padding-bottom: 0.4em;background-color: white;}#sk-container-id-1 div.sk-label label {font-family: monospace;font-weight: bold;display: inline-block;line-height: 1.2em;}#sk-container-id-1 div.sk-label-container {text-align: center;}#sk-container-id-1 div.sk-container {/* jupyter's `normalize.less` sets `[hidden] { display: none; }` but bootstrap.min.css set `[hidden] { display: none !important; }` so we also need the `!important` here to be able to override the default hidden behavior on the sphinx rendered scikit-learn.org. See: https://github.com/scikit-learn/scikit-learn/issues/21755 */display: inline-block !important;position: relative;}#sk-container-id-1 div.sk-text-repr-fallback {display: none;}</style><div id=\"sk-container-id-1\" class=\"sk-top-container\"><div class=\"sk-text-repr-fallback\"><pre>XGBRegressor(base_score=None, booster=None, callbacks=None,\n",
       "             colsample_bylevel=None, colsample_bynode=None,\n",
       "             colsample_bytree=None, device=None, early_stopping_rounds=None,\n",
       "             enable_categorical=False, eval_metric=None, feature_types=None,\n",
       "             gamma=None, grow_policy=None, importance_type=None,\n",
       "             interaction_constraints=None, learning_rate=None, max_bin=None,\n",
       "             max_cat_threshold=None, max_cat_to_onehot=None,\n",
       "             max_delta_step=None, max_depth=3, max_leaves=None,\n",
       "             min_child_weight=None, missing=nan, monotone_constraints=None,\n",
       "             multi_strategy=None, n_estimators=5, n_jobs=None,\n",
       "             num_parallel_tree=None, objective=&#x27;reg:logistic&#x27;, ...)</pre><b>In a Jupyter environment, please rerun this cell to show the HTML representation or trust the notebook. <br />On GitHub, the HTML representation is unable to render, please try loading this page with nbviewer.org.</b></div><div class=\"sk-container\" hidden><div class=\"sk-item\"><div class=\"sk-estimator sk-toggleable\"><input class=\"sk-toggleable__control sk-hidden--visually\" id=\"sk-estimator-id-1\" type=\"checkbox\" checked><label for=\"sk-estimator-id-1\" class=\"sk-toggleable__label sk-toggleable__label-arrow\">XGBRegressor</label><div class=\"sk-toggleable__content\"><pre>XGBRegressor(base_score=None, booster=None, callbacks=None,\n",
       "             colsample_bylevel=None, colsample_bynode=None,\n",
       "             colsample_bytree=None, device=None, early_stopping_rounds=None,\n",
       "             enable_categorical=False, eval_metric=None, feature_types=None,\n",
       "             gamma=None, grow_policy=None, importance_type=None,\n",
       "             interaction_constraints=None, learning_rate=None, max_bin=None,\n",
       "             max_cat_threshold=None, max_cat_to_onehot=None,\n",
       "             max_delta_step=None, max_depth=3, max_leaves=None,\n",
       "             min_child_weight=None, missing=nan, monotone_constraints=None,\n",
       "             multi_strategy=None, n_estimators=5, n_jobs=None,\n",
       "             num_parallel_tree=None, objective=&#x27;reg:logistic&#x27;, ...)</pre></div></div></div></div></div>"
      ],
      "text/plain": [
       "XGBRegressor(base_score=None, booster=None, callbacks=None,\n",
       "             colsample_bylevel=None, colsample_bynode=None,\n",
       "             colsample_bytree=None, device=None, early_stopping_rounds=None,\n",
       "             enable_categorical=False, eval_metric=None, feature_types=None,\n",
       "             gamma=None, grow_policy=None, importance_type=None,\n",
       "             interaction_constraints=None, learning_rate=None, max_bin=None,\n",
       "             max_cat_threshold=None, max_cat_to_onehot=None,\n",
       "             max_delta_step=None, max_depth=3, max_leaves=None,\n",
       "             min_child_weight=None, missing=nan, monotone_constraints=None,\n",
       "             multi_strategy=None, n_estimators=5, n_jobs=None,\n",
       "             num_parallel_tree=None, objective='reg:logistic', ...)"
      ]
     },
     "execution_count": 12,
     "metadata": {},
     "output_type": "execute_result"
    }
   ],
   "source": [
    "xgb_r = xg.XGBRegressor(objective ='reg:logistic', \n",
    "                  n_estimators = 5, max_depth=3) \n",
    "xgb_r.fit(X_flattened, y_train) "
   ]
  },
  {
   "cell_type": "code",
   "execution_count": 13,
   "id": "3f79c8ba",
   "metadata": {},
   "outputs": [
    {
     "name": "stdout",
     "output_type": "stream",
     "text": [
      "0.056896521087173774\n",
      "0.2898819877940771\n",
      "0.2620966814403083\n"
     ]
    }
   ],
   "source": [
    "predictions = xgb_r.predict(X2.reshape((2960, -1)))\n",
    "print(rmse(y2,predictions))\n",
    "print(mape(y2,predictions))\n",
    "print(smape(y2,predictions))"
   ]
  },
  {
   "cell_type": "markdown",
   "id": "0d82a407",
   "metadata": {},
   "source": [
    "### Support Vector Regression"
   ]
  },
  {
   "cell_type": "code",
   "execution_count": 14,
   "id": "ce9aa211",
   "metadata": {},
   "outputs": [],
   "source": [
    "X_flattened = X_train.reshape((2664, -1))"
   ]
  },
  {
   "cell_type": "code",
   "execution_count": 15,
   "id": "8e136f15",
   "metadata": {},
   "outputs": [
    {
     "data": {
      "text/html": [
       "<style>#sk-container-id-2 {color: black;}#sk-container-id-2 pre{padding: 0;}#sk-container-id-2 div.sk-toggleable {background-color: white;}#sk-container-id-2 label.sk-toggleable__label {cursor: pointer;display: block;width: 100%;margin-bottom: 0;padding: 0.3em;box-sizing: border-box;text-align: center;}#sk-container-id-2 label.sk-toggleable__label-arrow:before {content: \"▸\";float: left;margin-right: 0.25em;color: #696969;}#sk-container-id-2 label.sk-toggleable__label-arrow:hover:before {color: black;}#sk-container-id-2 div.sk-estimator:hover label.sk-toggleable__label-arrow:before {color: black;}#sk-container-id-2 div.sk-toggleable__content {max-height: 0;max-width: 0;overflow: hidden;text-align: left;background-color: #f0f8ff;}#sk-container-id-2 div.sk-toggleable__content pre {margin: 0.2em;color: black;border-radius: 0.25em;background-color: #f0f8ff;}#sk-container-id-2 input.sk-toggleable__control:checked~div.sk-toggleable__content {max-height: 200px;max-width: 100%;overflow: auto;}#sk-container-id-2 input.sk-toggleable__control:checked~label.sk-toggleable__label-arrow:before {content: \"▾\";}#sk-container-id-2 div.sk-estimator input.sk-toggleable__control:checked~label.sk-toggleable__label {background-color: #d4ebff;}#sk-container-id-2 div.sk-label input.sk-toggleable__control:checked~label.sk-toggleable__label {background-color: #d4ebff;}#sk-container-id-2 input.sk-hidden--visually {border: 0;clip: rect(1px 1px 1px 1px);clip: rect(1px, 1px, 1px, 1px);height: 1px;margin: -1px;overflow: hidden;padding: 0;position: absolute;width: 1px;}#sk-container-id-2 div.sk-estimator {font-family: monospace;background-color: #f0f8ff;border: 1px dotted black;border-radius: 0.25em;box-sizing: border-box;margin-bottom: 0.5em;}#sk-container-id-2 div.sk-estimator:hover {background-color: #d4ebff;}#sk-container-id-2 div.sk-parallel-item::after {content: \"\";width: 100%;border-bottom: 1px solid gray;flex-grow: 1;}#sk-container-id-2 div.sk-label:hover label.sk-toggleable__label {background-color: #d4ebff;}#sk-container-id-2 div.sk-serial::before {content: \"\";position: absolute;border-left: 1px solid gray;box-sizing: border-box;top: 0;bottom: 0;left: 50%;z-index: 0;}#sk-container-id-2 div.sk-serial {display: flex;flex-direction: column;align-items: center;background-color: white;padding-right: 0.2em;padding-left: 0.2em;position: relative;}#sk-container-id-2 div.sk-item {position: relative;z-index: 1;}#sk-container-id-2 div.sk-parallel {display: flex;align-items: stretch;justify-content: center;background-color: white;position: relative;}#sk-container-id-2 div.sk-item::before, #sk-container-id-2 div.sk-parallel-item::before {content: \"\";position: absolute;border-left: 1px solid gray;box-sizing: border-box;top: 0;bottom: 0;left: 50%;z-index: -1;}#sk-container-id-2 div.sk-parallel-item {display: flex;flex-direction: column;z-index: 1;position: relative;background-color: white;}#sk-container-id-2 div.sk-parallel-item:first-child::after {align-self: flex-end;width: 50%;}#sk-container-id-2 div.sk-parallel-item:last-child::after {align-self: flex-start;width: 50%;}#sk-container-id-2 div.sk-parallel-item:only-child::after {width: 0;}#sk-container-id-2 div.sk-dashed-wrapped {border: 1px dashed gray;margin: 0 0.4em 0.5em 0.4em;box-sizing: border-box;padding-bottom: 0.4em;background-color: white;}#sk-container-id-2 div.sk-label label {font-family: monospace;font-weight: bold;display: inline-block;line-height: 1.2em;}#sk-container-id-2 div.sk-label-container {text-align: center;}#sk-container-id-2 div.sk-container {/* jupyter's `normalize.less` sets `[hidden] { display: none; }` but bootstrap.min.css set `[hidden] { display: none !important; }` so we also need the `!important` here to be able to override the default hidden behavior on the sphinx rendered scikit-learn.org. See: https://github.com/scikit-learn/scikit-learn/issues/21755 */display: inline-block !important;position: relative;}#sk-container-id-2 div.sk-text-repr-fallback {display: none;}</style><div id=\"sk-container-id-2\" class=\"sk-top-container\"><div class=\"sk-text-repr-fallback\"><pre>SVR(C=10, gamma=0.1, kernel=&#x27;poly&#x27;)</pre><b>In a Jupyter environment, please rerun this cell to show the HTML representation or trust the notebook. <br />On GitHub, the HTML representation is unable to render, please try loading this page with nbviewer.org.</b></div><div class=\"sk-container\" hidden><div class=\"sk-item\"><div class=\"sk-estimator sk-toggleable\"><input class=\"sk-toggleable__control sk-hidden--visually\" id=\"sk-estimator-id-2\" type=\"checkbox\" checked><label for=\"sk-estimator-id-2\" class=\"sk-toggleable__label sk-toggleable__label-arrow\">SVR</label><div class=\"sk-toggleable__content\"><pre>SVR(C=10, gamma=0.1, kernel=&#x27;poly&#x27;)</pre></div></div></div></div></div>"
      ],
      "text/plain": [
       "SVR(C=10, gamma=0.1, kernel='poly')"
      ]
     },
     "execution_count": 15,
     "metadata": {},
     "output_type": "execute_result"
    }
   ],
   "source": [
    "svr_model = SVR(kernel='poly', degree=3, gamma=0.1,C=10,epsilon=0.1) \n",
    "svr_model.fit(X_flattened, y_train)"
   ]
  },
  {
   "cell_type": "code",
   "execution_count": 16,
   "id": "6eb47dd1",
   "metadata": {},
   "outputs": [
    {
     "name": "stdout",
     "output_type": "stream",
     "text": [
      "0.08320697084779863\n",
      "0.4962923373069024\n",
      "0.40376288450618497\n"
     ]
    }
   ],
   "source": [
    "predictions = svr_model.predict(X2.reshape((2960, -1)))\n",
    "print(rmse(y2,predictions))\n",
    "print(mape(y2,predictions))\n",
    "print(smape(y2,predictions))"
   ]
  },
  {
   "cell_type": "markdown",
   "id": "846010c7",
   "metadata": {},
   "source": [
    "### ARIMA"
   ]
  },
  {
   "cell_type": "code",
   "execution_count": 17,
   "id": "c784373c",
   "metadata": {},
   "outputs": [],
   "source": [
    "arima_train_df = train_df[str(region)]\n",
    "arima_test_df = test_df[str(region)]\n",
    "arima_train_df_reshaped = arima_train_df.values.reshape(-1, 1)\n",
    "arima_test_df_reshaped = arima_test_df.values.reshape(-1, 1)"
   ]
  },
  {
   "cell_type": "code",
   "execution_count": 18,
   "id": "f2582ce5",
   "metadata": {},
   "outputs": [],
   "source": [
    "# initialise scalers\n",
    "scaler = MinMaxScaler(feature_range=(0.1,1))\n",
    "scaler.fit(arima_train_df_reshaped)\n",
    "\n",
    "arima_scaled_train = scaler.transform(arima_train_df_reshaped)\n",
    "arima_scaled_test = scaler.transform(arima_test_df_reshaped)"
   ]
  },
  {
   "cell_type": "code",
   "execution_count": 19,
   "id": "63ad7465",
   "metadata": {},
   "outputs": [],
   "source": [
    "p = 1\n",
    "d = 1\n",
    "q = 1\n",
    "\n",
    "model = ARIMA(arima_scaled_train, order=(p, d, q))\n",
    "model_fit = model.fit()"
   ]
  },
  {
   "cell_type": "code",
   "execution_count": 20,
   "id": "d1ffd5d0",
   "metadata": {},
   "outputs": [
    {
     "name": "stdout",
     "output_type": "stream",
     "text": [
      "0.06714223792109074\n",
      "0.2608799294825222\n",
      "0.26342639483154745\n"
     ]
    },
    {
     "name": "stderr",
     "output_type": "stream",
     "text": [
      "C:\\Users\\cj_dj\\anaconda3\\envs\\school\\Lib\\site-packages\\statsmodels\\tsa\\statespace\\representation.py:374: FutureWarning: Unknown keyword arguments: dict_keys(['typ']).Passing unknown keyword arguments will raise a TypeError beginning in version 0.15.\n",
      "  warnings.warn(msg, FutureWarning)\n"
     ]
    }
   ],
   "source": [
    "predictions = model_fit.predict(start=len(arima_scaled_train), end=len(arima_scaled_train) + len(arima_scaled_test) - 1, typ='levels')\n",
    "print(rmse(arima_scaled_test.flatten(),predictions))\n",
    "print(mape(arima_scaled_test.flatten(),predictions))\n",
    "print(smape(arima_scaled_test.flatten(),predictions))"
   ]
  },
  {
   "cell_type": "code",
   "execution_count": null,
   "id": "a3d18b62",
   "metadata": {},
   "outputs": [],
   "source": []
  }
 ],
 "metadata": {
  "kernelspec": {
   "display_name": "Python 3 (ipykernel)",
   "language": "python",
   "name": "python3"
  },
  "language_info": {
   "codemirror_mode": {
    "name": "ipython",
    "version": 3
   },
   "file_extension": ".py",
   "mimetype": "text/x-python",
   "name": "python",
   "nbconvert_exporter": "python",
   "pygments_lexer": "ipython3",
   "version": "3.11.5"
  }
 },
 "nbformat": 4,
 "nbformat_minor": 5
}
